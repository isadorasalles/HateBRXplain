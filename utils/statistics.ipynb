{
 "cells": [
  {
   "cell_type": "code",
   "execution_count": 37,
   "metadata": {},
   "outputs": [],
   "source": [
    "import pandas as pd\n",
    "import spacy\n",
    "\n",
    "nlp = spacy.load(\"pt_core_news_sm\")"
   ]
  },
  {
   "cell_type": "code",
   "execution_count": 50,
   "metadata": {},
   "outputs": [],
   "source": [
    "df = pd.read_csv('../data/hatebr_and_rationales.csv', \\\n",
    "                    index_col=0, \\\n",
    "                    converters={\"rationales_offensive_1_normalized\": \\\n",
    "                    lambda x: x.strip('[]').replace(\"'\", \"\").split(\", \"),\n",
    "                    \"rationales_offensive_2_normalized\": \\\n",
    "                    lambda x: x.strip('[]').replace(\"'\", \"\").split(\", \")})"
   ]
  },
  {
   "cell_type": "code",
   "execution_count": 51,
   "metadata": {},
   "outputs": [],
   "source": [
    "ofensivos = df[df['label final'] == 1]\n",
    "non_ofensivos = df[df['label final'] == 0]"
   ]
  },
  {
   "cell_type": "code",
   "execution_count": 56,
   "metadata": {},
   "outputs": [
    {
     "data": {
      "text/plain": [
       "{'sentences': 4871,\n",
       " 'words': 53455,\n",
       " 'avg sentences': 1.3917142857142857,\n",
       " 'avg words': 15.272857142857143,\n",
       " 'Noun': 3.492,\n",
       " 'Verb': 2.4042857142857144,\n",
       " 'Adjective': 0.988,\n",
       " 'Adverb': 1.1262857142857143,\n",
       " 'Pronoun': 1.1197142857142857,\n",
       " 'Subordinating Conjunction': 0.5708571428571428,\n",
       " 'Coordinating Conjunction': 0.4717142857142857}"
      ]
     },
     "execution_count": 56,
     "metadata": {},
     "output_type": "execute_result"
    }
   ],
   "source": [
    "def get_statistics(df):\n",
    "    sentences = 0\n",
    "    words = 0\n",
    "    pos = {}\n",
    "    for i, row in df.iterrows():\n",
    "        sentences += len(row.comentario.split('. '))\n",
    "        words += len(row.normalized_text.split(' '))\n",
    "\n",
    "        doc = nlp(row.normalized_text)\n",
    "        for token in doc:\n",
    "            try:\n",
    "                pos[token.pos_] += 1\n",
    "            except: \n",
    "                pos[token.pos_] = 1\n",
    "    \n",
    "    to_return = {}\n",
    "    to_return['sentences'] = sentences\n",
    "    to_return['words'] = words\n",
    "    to_return['avg sentences'] = sentences/len(df)\n",
    "    to_return['avg words'] = words/len(df)\n",
    "    to_return['Noun'] = pos['NOUN']/len(df)\n",
    "    to_return['Verb'] = pos['VERB']/len(df)\n",
    "    to_return['Adjective'] = pos['ADJ']/len(df)\n",
    "    to_return['Adverb'] = pos['ADV']/len(df)\n",
    "    to_return['Pronoun'] = pos['PRON']/len(df)\n",
    "    to_return['Subordinating Conjunction'] = pos['SCONJ']/len(df)\n",
    "    to_return['Coordinating Conjunction'] = pos['CCONJ']/len(df)\n",
    "    \n",
    "    return to_return\n",
    "\n",
    "get_statistics(ofensivos)"
   ]
  },
  {
   "cell_type": "code",
   "execution_count": 57,
   "metadata": {},
   "outputs": [
    {
     "data": {
      "text/plain": [
       "{'sentences': 4674,\n",
       " 'words': 42891,\n",
       " 'avg sentences': 1.3354285714285714,\n",
       " 'avg words': 12.25457142857143,\n",
       " 'Noun': 2.7994285714285714,\n",
       " 'Verb': 1.806857142857143,\n",
       " 'Adjective': 0.8774285714285714,\n",
       " 'Adverb': 0.8888571428571429,\n",
       " 'Pronoun': 0.89,\n",
       " 'Subordinating Conjunction': 0.4174285714285714,\n",
       " 'Coordinating Conjunction': 0.4005714285714286}"
      ]
     },
     "execution_count": 57,
     "metadata": {},
     "output_type": "execute_result"
    }
   ],
   "source": [
    "get_statistics(non_ofensivos)"
   ]
  },
  {
   "cell_type": "code",
   "execution_count": 59,
   "metadata": {},
   "outputs": [
    {
     "data": {
      "text/plain": [
       "{'spans': 6601,\n",
       " 'words': 27038,\n",
       " 'avg spans': 1.886,\n",
       " 'avg words': 7.725142857142857,\n",
       " 'Noun': 2.032857142857143,\n",
       " 'Verb': 1.3182857142857143,\n",
       " 'Adjective': 0.6194285714285714,\n",
       " 'Adverb': 0.49914285714285717,\n",
       " 'Pronoun': 0.44771428571428573,\n",
       " 'Subordinating Conjunction': 0.21057142857142858,\n",
       " 'Coordinating Conjunction': 0.13228571428571428}"
      ]
     },
     "execution_count": 59,
     "metadata": {},
     "output_type": "execute_result"
    }
   ],
   "source": [
    "def get_rationales_statistics(df, annot):\n",
    "    spans = 0\n",
    "    words = 0\n",
    "    pos = {}\n",
    "    for i, row in df.iterrows():\n",
    "        if annot == 1:\n",
    "            r = row.rationales_offensive_1_normalized\n",
    "        else:\n",
    "            r = row.rationales_offensive_2_normalized\n",
    "        spans += len(r)\n",
    "        words += len(' '.join(r).split(' '))\n",
    "\n",
    "        doc = nlp(' '.join(r))\n",
    "        for token in doc:\n",
    "            try:\n",
    "                pos[token.pos_] += 1\n",
    "            except: \n",
    "                pos[token.pos_] = 1\n",
    "    \n",
    "    to_return = {}\n",
    "    to_return['spans'] = spans\n",
    "    to_return['words'] = words\n",
    "    to_return['avg spans'] = spans/len(df)\n",
    "    to_return['avg words'] = words/len(df)\n",
    "    to_return['Noun'] = pos['NOUN']/len(df)\n",
    "    to_return['Verb'] = pos['VERB']/len(df)\n",
    "    to_return['Adjective'] = pos['ADJ']/len(df)\n",
    "    to_return['Adverb'] = pos['ADV']/len(df)\n",
    "    to_return['Pronoun'] = pos['PRON']/len(df)\n",
    "    to_return['Subordinating Conjunction'] = pos['SCONJ']/len(df)\n",
    "    to_return['Coordinating Conjunction'] = pos['CCONJ']/len(df)\n",
    "    \n",
    "    return to_return\n",
    "\n",
    "get_rationales_statistics(df[df['label final'] == 1], 1)"
   ]
  },
  {
   "cell_type": "code",
   "execution_count": 60,
   "metadata": {},
   "outputs": [
    {
     "data": {
      "text/plain": [
       "{'spans': 5925,\n",
       " 'words': 17995,\n",
       " 'avg spans': 1.6928571428571428,\n",
       " 'avg words': 5.1414285714285715,\n",
       " 'Noun': 1.5097142857142858,\n",
       " 'Verb': 0.7988571428571428,\n",
       " 'Adjective': 0.4754285714285714,\n",
       " 'Adverb': 0.2874285714285714,\n",
       " 'Pronoun': 0.26142857142857145,\n",
       " 'Subordinating Conjunction': 0.11114285714285714,\n",
       " 'Coordinating Conjunction': 0.06971428571428571}"
      ]
     },
     "execution_count": 60,
     "metadata": {},
     "output_type": "execute_result"
    }
   ],
   "source": [
    "get_rationales_statistics(df[df['label final'] == 1], 2)"
   ]
  },
  {
   "cell_type": "code",
   "execution_count": null,
   "metadata": {},
   "outputs": [],
   "source": []
  }
 ],
 "metadata": {
  "kernelspec": {
   "display_name": "Python 3",
   "language": "python",
   "name": "python3"
  },
  "language_info": {
   "codemirror_mode": {
    "name": "ipython",
    "version": 3
   },
   "file_extension": ".py",
   "mimetype": "text/x-python",
   "name": "python",
   "nbconvert_exporter": "python",
   "pygments_lexer": "ipython3",
   "version": "3.7.4"
  }
 },
 "nbformat": 4,
 "nbformat_minor": 2
}
