{
 "cells": [
  {
   "cell_type": "code",
   "execution_count": 1,
   "metadata": {},
   "outputs": [],
   "source": [
    "import pandas as pd\n",
    "import nltk\n",
    "from nltk.metrics import agreement\n",
    "from nltk.metrics.agreement import AnnotationTask\n",
    "from nltk.metrics import masi_distance\n",
    "import math\n",
    "import numpy as np\n",
    "from ast import literal_eval"
   ]
  },
  {
   "cell_type": "code",
   "execution_count": 2,
   "metadata": {},
   "outputs": [],
   "source": [
    "hatebr = pd.read_csv('../data/hatebr_and_rationales.csv', converters={\"rationales_offensive_1_normalized\": \\\n",
    "                        lambda x: x.strip('[]').replace(\"'\", \"\").split(\", \"),\n",
    "                        \"rationales_offensive_2_normalized\": \\\n",
    "                        lambda x: x.strip('[]').replace(\"'\", \"\").split(\", \")})"
   ]
  },
  {
   "cell_type": "markdown",
   "metadata": {},
   "source": [
    "### Rationales agreements"
   ]
  },
  {
   "cell_type": "code",
   "execution_count": 5,
   "metadata": {},
   "outputs": [],
   "source": [
    "rationales_1 = hatebr['rationales_offensive_1_normalized'].tolist()[:3500]"
   ]
  },
  {
   "cell_type": "code",
   "execution_count": 6,
   "metadata": {},
   "outputs": [],
   "source": [
    "rationales_2 = hatebr['rationales_offensive_2_normalized'].tolist()[:3500]"
   ]
  },
  {
   "cell_type": "markdown",
   "metadata": {},
   "source": [
    "#### Span-level"
   ]
  },
  {
   "cell_type": "code",
   "execution_count": 7,
   "metadata": {},
   "outputs": [],
   "source": [
    "def partial_match_score(a, b, threshold=0.5):\n",
    "        \n",
    "    intersection= list(set(a) & set(b))\n",
    "    union = list(set().union(a, b))\n",
    "    iou = len(intersection)/len(union)\n",
    "    return iou >= threshold\n",
    "    \n",
    "\n",
    "def jaccard_index(annot1, annot2, partial_matches=True):\n",
    "    \n",
    "    jaccard = []\n",
    "    \n",
    "    for r1, r2 in zip(annot1, annot2):\n",
    "        matches = 0\n",
    "        \n",
    "        for span1 in r1:\n",
    "            for span2 in r2:\n",
    "                \n",
    "                if partial_matches:\n",
    "                    if partial_match_score(span1.split(' '), span2.split(' '), threshold=0.5):\n",
    "                        matches+=1\n",
    "                else:\n",
    "                    if span1 == span2:\n",
    "                        matches+=1\n",
    "        \n",
    "        len_unique_spans = len(r1)+len(r2)-matches\n",
    "        try:\n",
    "            jaccard.append(matches/len_unique_spans)\n",
    "        except:\n",
    "            if r1 == r2:\n",
    "                jaccard.append(matches/len(r1))\n",
    "            elif r1 > r2:\n",
    "                jaccard.append(matches/len(r1))\n",
    "            else:\n",
    "                jaccard.append(matches/len(r2))\n",
    "        \n",
    "    if partial_matches:\n",
    "        print('Jaccard index span-level considering partial overlap: ', sum(jaccard)/len(annot1))\n",
    "    \n",
    "    else:\n",
    "        print('Jaccard index span-level considering exact match: ', np.mean(jaccard))\n",
    "    \n",
    "    return jaccard\n",
    "    \n",
    "\n",
    "def precision(r1, r2, partial_matches=True):\n",
    "    \n",
    "    matches = 0\n",
    "    \n",
    "    for span1 in r1:\n",
    "        for span2 in r2:\n",
    "            \n",
    "            if partial_matches:\n",
    "                if partial_match_score(span1.split(' '), span2.split(' '), threshold=0.5):\n",
    "                    matches += 1\n",
    "            else:\n",
    "                if span1 == span2:\n",
    "                    matches += 1\n",
    "    \n",
    "    return matches/len(r1)\n",
    "\n",
    "def recall(r1, r2, partial_matches=True):\n",
    "    \n",
    "    matches = 0\n",
    "    \n",
    "    for span1 in r1:\n",
    "        for span2 in r2:\n",
    "            \n",
    "            if partial_matches: \n",
    "                if partial_match_score(span1.split(' '), span2.split(' '), threshold=0.5):\n",
    "                    matches+=1\n",
    "            \n",
    "            else:\n",
    "                if span1 == span2:\n",
    "                    matches += 1\n",
    "    \n",
    "    return matches/len(r2)\n",
    "    \n",
    "\n",
    "def f1_score(annot1, annot2, partial_matches=True):\n",
    "    \n",
    "    prec = []\n",
    "    rec = []\n",
    "    f1 = []\n",
    "    \n",
    "    for r1, r2 in zip(annot1, annot2):\n",
    "        \n",
    "        p = precision(r1, r2, partial_matches)\n",
    "        prec.append(p)\n",
    "        r = recall(r1, r2, partial_matches)\n",
    "        rec.append(r)\n",
    "        \n",
    "        if (p+r) > 0:\n",
    "            f1.append(2*(p*r)/(p+r))\n",
    "        else:\n",
    "            f1.append(0)\n",
    "    \n",
    "    if partial_matches:\n",
    "    \n",
    "        print('Precision span-level considering partial overlap: ', sum(prec)/len(annot1))\n",
    "        print('Recall span-level considering partial overlap: ', sum(rec)/len(annot1))\n",
    "        print('F1-score span-level considering partial overlap: ', sum(f1)/len(annot1))\n",
    "        \n",
    "    else: \n",
    "        \n",
    "        print('Precision span-level considering exact match: ', sum(prec)/len(annot1))\n",
    "        print('Recall span-level considering exact match: ', sum(rec)/len(annot1))\n",
    "        print('F1-score span-level considering exact match: ', sum(f1)/len(annot1))\n",
    "        \n",
    "    return f1"
   ]
  },
  {
   "cell_type": "code",
   "execution_count": 8,
   "metadata": {},
   "outputs": [
    {
     "name": "stdout",
     "output_type": "stream",
     "text": [
      "Precision span-level considering exact match:  0.49919296972868404\n",
      "Recall span-level considering exact match:  0.5508122448979588\n",
      "F1-score span-level considering exact match:  0.5131852286393663\n",
      "\n",
      "\n",
      "Precision span-level considering partial overlap:  0.7155935501006935\n",
      "Recall span-level considering partial overlap:  0.7598098639455784\n",
      "F1-score span-level considering partial overlap:  0.7168473719680492\n"
     ]
    }
   ],
   "source": [
    "_ = f1_score(rationales_1, rationales_2, partial_matches=False)\n",
    "print('\\n')\n",
    "f1_h = f1_score(rationales_1, rationales_2)"
   ]
  },
  {
   "cell_type": "code",
   "execution_count": 9,
   "metadata": {},
   "outputs": [
    {
     "name": "stdout",
     "output_type": "stream",
     "text": [
      "Jaccard index span-level considering exact match:  0.4697374340989003\n",
      "\n",
      "\n",
      "Jaccard index span-level considering partial overlap:  0.674562419326705\n"
     ]
    }
   ],
   "source": [
    "_ = jaccard_index(rationales_1, rationales_2, partial_matches=False)\n",
    "print('\\n')\n",
    "jac_h = jaccard_index(rationales_1, rationales_2)"
   ]
  },
  {
   "cell_type": "code",
   "execution_count": 10,
   "metadata": {},
   "outputs": [],
   "source": [
    "def f1_score_token_level(annot1, annot2):\n",
    "    f1_score = []\n",
    "    recs = []\n",
    "    precs = []\n",
    "    for r1, r2 in zip(annot1, annot2):\n",
    "        \n",
    "        a = ' '.join(r1).split(' ')\n",
    "        b = ' '.join(r2).split(' ')\n",
    "        \n",
    "        precision = len(list(set(a) & set(b)))/len(a) if len(a) > 0 else 0\n",
    "        precs.append(precision)\n",
    "        recall = len(list(set(a) & set(b)))/len(b) if len(b) > 0 else 0\n",
    "        recs.append(recall)\n",
    "        \n",
    "        if recall+precision > 0:\n",
    "            f1_score.append(2*((recall*precision)/(recall+precision)))\n",
    "    \n",
    "    \n",
    "    print('Precision token-level: ', sum(precs)/len(annot1))\n",
    "    print('Recall token-level: ', sum(recs)/len(annot1))\n",
    "    print('F1-score token-level: ', sum(f1_score)/len(annot1))\n",
    "    "
   ]
  },
  {
   "cell_type": "code",
   "execution_count": 11,
   "metadata": {},
   "outputs": [
    {
     "name": "stdout",
     "output_type": "stream",
     "text": [
      "Precision token-level:  0.7048811125875489\n",
      "Recall token-level:  0.9087454710637196\n",
      "F1-score token-level:  0.7404556852785749\n"
     ]
    }
   ],
   "source": [
    "f1_score_token_level(rationales_1, rationales_2)"
   ]
  },
  {
   "cell_type": "code",
   "execution_count": 12,
   "metadata": {},
   "outputs": [],
   "source": [
    "def jaccard_index_token_level(annot1, annot2):\n",
    "    \n",
    "    jaccard = []\n",
    "    \n",
    "    for r1, r2 in zip(annot1, annot2):\n",
    "        \n",
    "        a = ' '.join(r1).split(' ')\n",
    "        b = ' '.join(r2).split(' ')\n",
    "        \n",
    "        intersection= list(set(a) & set(b))\n",
    "        union = list(set().union(a, b))\n",
    "        jaccard.append(len(intersection)/len(union))\n",
    "        \n",
    "    print('Jaccard index token-level: ', sum(jaccard)/len(annot1))"
   ]
  },
  {
   "cell_type": "code",
   "execution_count": 13,
   "metadata": {},
   "outputs": [
    {
     "name": "stdout",
     "output_type": "stream",
     "text": [
      "Jaccard index token-level:  0.6720534990804783\n"
     ]
    }
   ],
   "source": [
    "jaccard_index_token_level(rationales_1, rationales_2)"
   ]
  },
  {
   "cell_type": "markdown",
   "metadata": {},
   "source": [
    "Some Rationales Statistics"
   ]
  },
  {
   "cell_type": "code",
   "execution_count": 14,
   "metadata": {},
   "outputs": [
    {
     "data": {
      "text/plain": [
       "7.725142857142857"
      ]
     },
     "execution_count": 14,
     "metadata": {},
     "output_type": "execute_result"
    }
   ],
   "source": [
    "count = 0\n",
    "terms = {}\n",
    "for r in rationales_1:\n",
    "    list_words = ' '.join(r).split(' ')\n",
    "    count += len(list_words)\n",
    "    for w in list_words:\n",
    "        try:\n",
    "            terms[w] += 1\n",
    "        except:\n",
    "            terms[w] = 1\n",
    "    \n",
    "    \n",
    "count/len(rationales_1)"
   ]
  },
  {
   "cell_type": "code",
   "execution_count": 15,
   "metadata": {},
   "outputs": [
    {
     "data": {
      "text/plain": [
       "5.140571428571429"
      ]
     },
     "execution_count": 15,
     "metadata": {},
     "output_type": "execute_result"
    }
   ],
   "source": [
    "count = 0\n",
    "terms_f = {}\n",
    "for r in rationales_2:\n",
    "    list_words = ' '.join(r).split(' ')\n",
    "    count += len(list_words)\n",
    "    for w in list_words:\n",
    "        try:\n",
    "            terms_f[w] += 1\n",
    "        except:\n",
    "            terms_f[w] = 1\n",
    "    \n",
    "count/len(rationales_2)"
   ]
  },
  {
   "cell_type": "code",
   "execution_count": 16,
   "metadata": {},
   "outputs": [
    {
     "data": {
      "text/plain": [
       "15.272857142857143"
      ]
     },
     "execution_count": 16,
     "metadata": {},
     "output_type": "execute_result"
    }
   ],
   "source": [
    "count = 0\n",
    "for e, r in enumerate(hatebr['normalized_text']):\n",
    "    if e >= 3500:\n",
    "        break\n",
    "    count += len(r.split(' '))\n",
    "    \n",
    "count/len(rationales_1)"
   ]
  },
  {
   "cell_type": "code",
   "execution_count": 17,
   "metadata": {},
   "outputs": [],
   "source": [
    "spans_r1 = []\n",
    "spans_r2 = []\n",
    "for r1, r2 in zip(rationales_1, rationales_2):\n",
    "    for s1 in r1:\n",
    "        spans_r1.append(len(s1))\n",
    "    for s2 in r2:\n",
    "        spans_r2.append(len(s2))"
   ]
  },
  {
   "cell_type": "code",
   "execution_count": 19,
   "metadata": {},
   "outputs": [
    {
     "data": {
      "image/png": "[encoded data removed]",
      "text/plain": [
       "<Figure size 600x400 with 1 Axes>"
      ]
     },
     "metadata": {
      "needs_background": "light"
     },
     "output_type": "display_data"
    }
   ],
   "source": [
    "import seaborn as sns\n",
    "import matplotlib.pyplot as plt\n",
    "\n",
    "from matplotlib import rc \n",
    "\n",
    "rc('font', **{'family': 'serif', 'serif': ['Computer Modern']})\n",
    "rc('text', usetex=True)\n",
    "rc('text.latex', preamble=r'\\usepackage{amsmath}\\usepackage{amssymb}')\n",
    "plt.rcParams['savefig.dpi'] = 300  # Ensures high-quality output\n",
    "plt.rcParams['figure.dpi'] = 100\n",
    "\n",
    "plt.figure()\n",
    "sns.histplot(data=spans_r1, color='red', binwidth=3, element='step', label='Annotator 1', alpha=0.5)\n",
    "sns.histplot(data=spans_r2, color='tab:blue', binwidth=3,  element='step', label = 'Annotator 2', alpha=0.6)\n",
    "plt.ylabel('Frequency', fontsize=20)\n",
    "plt.xlabel('Span Size (\\# of characters)', fontsize =20)\n",
    "plt.xticks(fontsize=16)\n",
    "plt.yticks(fontsize=16)\n",
    "plt.legend(fontsize=19)\n",
    "plt.gca().spines['right'].set_visible(False)\n",
    "plt.gca().spines['top'].set_visible(False)\n",
    "plt.gca().spines['left'].set_visible(True)\n",
    "plt.gca().spines['bottom'].set_visible(True)\n",
    "\n",
    "plt.gca().spines['left'].set_linewidth(0.6)\n",
    "plt.gca().spines['bottom'].set_linewidth(0.6)\n",
    "\n",
    "plt.gca().spines['left'].set_color('grey')\n",
    "plt.gca().spines['bottom'].set_color('grey')\n",
    "plt.savefig('histogram.jpg', bbox_inches = 'tight')\n",
    "plt.show()"
   ]
  },
  {
   "cell_type": "markdown",
   "metadata": {},
   "source": [
    "Compare with random rationales"
   ]
  },
  {
   "cell_type": "code",
   "execution_count": 36,
   "metadata": {},
   "outputs": [],
   "source": [
    "import random\n",
    "random1 = []\n",
    "for e, (r, t) in enumerate(zip(rationales_1, hatebr['normalized_text'])):\n",
    "    r_length = len(' '.join(r).split(' '))\n",
    "    c_length = len(t.split(' '))\n",
    "    try:\n",
    "        random1.append([t.split(' ')[i] for i in random.sample(range(0, c_length), r_length)])\n",
    "    except:\n",
    "        if r_length > c_length:\n",
    "            r_length = c_length\n",
    "            random1.append([t.split(' ')[i] for i in random.sample(range(0, c_length), r_length)])"
   ]
  },
  {
   "cell_type": "code",
   "execution_count": 37,
   "metadata": {},
   "outputs": [],
   "source": [
    "random2 = []\n",
    "for e, (r, t) in enumerate(zip(rationales_2, hatebr['normalized_text'])):\n",
    "    r_length = len(' '.join(r).split(' '))\n",
    "    c_length = len(t.split(' '))\n",
    "    try:\n",
    "        random2.append([t.split(' ')[i] for i in random.sample(range(0, c_length), r_length)])\n",
    "    except:\n",
    "        if r_length > c_length:\n",
    "            r_length = c_length\n",
    "            random2.append([t.split(' ')[i] for i in random.sample(range(0, c_length), r_length)])"
   ]
  },
  {
   "cell_type": "code",
   "execution_count": 38,
   "metadata": {},
   "outputs": [
    {
     "name": "stdout",
     "output_type": "stream",
     "text": [
      "Precision span-level considering partial overlap:  0.5459101976884037\n",
      "Recall span-level considering partial overlap:  0.7089603117240129\n",
      "F1-score span-level considering partial overlap:  0.573538142016217\n"
     ]
    }
   ],
   "source": [
    "f1_r = f1_score(random1, random2)"
   ]
  },
  {
   "cell_type": "code",
   "execution_count": 39,
   "metadata": {},
   "outputs": [
    {
     "name": "stdout",
     "output_type": "stream",
     "text": [
      "Jaccard index span-level considering partial overlap:  0.48547060152911553\n"
     ]
    }
   ],
   "source": [
    "jac_r = jaccard_index(random1, random2)"
   ]
  }
 ],
 "metadata": {
  "kernelspec": {
   "display_name": "Python 3",
   "language": "python",
   "name": "python3"
  },
  "language_info": {
   "codemirror_mode": {
    "name": "ipython",
    "version": 3
   },
   "file_extension": ".py",
   "mimetype": "text/x-python",
   "name": "python",
   "nbconvert_exporter": "python",
   "pygments_lexer": "ipython3",
   "version": "3.7.4"
  }
 },
 "nbformat": 4,
 "nbformat_minor": 2
}
